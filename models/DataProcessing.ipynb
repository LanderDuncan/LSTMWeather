{
 "cells": [
  {
   "cell_type": "code",
   "execution_count": 4,
   "metadata": {},
   "outputs": [],
   "source": [
    "import pandas as pd"
   ]
  },
  {
   "cell_type": "code",
   "execution_count": 5,
   "metadata": {},
   "outputs": [],
   "source": [
    "# Import CSV to Pandas\n",
    "link =\"./global-hourly-2024-01-02T20-32-28.csv\"\n",
    "data = pd.read_csv(link,usecols=[\"WND\",\"REPORT_TYPE\",\"DATE\",\"TMP\"],dtype=str)"
   ]
  },
  {
   "cell_type": "code",
   "execution_count": 6,
   "metadata": {},
   "outputs": [],
   "source": [
    "# Remove irrelevant reports \n",
    "data = data[~data['REPORT_TYPE'].isin(['SOD  ','SOM  '])]"
   ]
  },
  {
   "cell_type": "code",
   "execution_count": 7,
   "metadata": {},
   "outputs": [],
   "source": [
    "# Split the wind data into seperate collumns\n",
    "split_values = data['WND'].str.split(',', expand=True)\n",
    "num_columns = len(split_values.columns)\n",
    "split_values.columns = [\"Direction\",\"Direction_Quality\",\"Type\",\"Speed\",\"Speed_Quality\"]\n",
    "data = pd.concat([data, split_values], axis=1)"
   ]
  },
  {
   "cell_type": "code",
   "execution_count": 8,
   "metadata": {},
   "outputs": [],
   "source": [
    "# Convert Speed and Direction collumns to ints\n",
    "data['Direction'] = data['Direction'].astype(int)\n",
    "data['Speed'] = data['Speed'].astype(int)"
   ]
  },
  {
   "cell_type": "code",
   "execution_count": 9,
   "metadata": {},
   "outputs": [],
   "source": [
    "# Standardize calm and variable wind\n",
    "data.loc[data['Type'] == 'C', 'Speed'] = 0\n",
    "data.loc[data['Type'] == 'C', 'Direction'] = 0"
   ]
  },
  {
   "cell_type": "code",
   "execution_count": 10,
   "metadata": {},
   "outputs": [],
   "source": [
    "# Remove data flagged as erroneous\n",
    "data = data[data['Type'].isin([\"N\",\"C\"])]\n",
    "data = data[data['Direction_Quality'].isin(['0', '1', '4', '5', '9'])]# Direction quality\n",
    "data = data[data['Speed_Quality'].isin(['0', '1', '4', '5', '9'])]# Speed quality"
   ]
  },
  {
   "cell_type": "code",
   "execution_count": 11,
   "metadata": {},
   "outputs": [],
   "source": [
    "# Remove impossibile measurements\n",
    "data = data[(data['Direction'].between(0, 360))]"
   ]
  },
  {
   "cell_type": "code",
   "execution_count": 12,
   "metadata": {},
   "outputs": [],
   "source": [
    "#Convert Wind to Vector\n",
    "windRadians = data[\"Direction\"]*np.pi/180\n",
    "data['Wx'] = data['Speed']*np.cos(windRadians)\n",
    "data['Wy'] = data['Speed']*np.sin(windRadians)"
   ]
  },
  {
   "cell_type": "code",
   "execution_count": 13,
   "metadata": {},
   "outputs": [],
   "source": [
    "# Convert time to seconds\n",
    "timestamp_s = pd.to_datetime(data['DATE']).map(pd.Timestamp.timestamp)\n",
    "data['DATE'] = timestamp_s"
   ]
  },
  {
   "cell_type": "code",
   "execution_count": 14,
   "metadata": {},
   "outputs": [],
   "source": [
    "# Add day-part and year-part to dataframe\n",
    "day = 24*60*60\n",
    "year = (365.2425)*day\n",
    "\n",
    "data['Day sin'] = np.sin(timestamp_s * (2 * np.pi / day))\n",
    "data['Day cos'] = np.cos(timestamp_s * (2 * np.pi / day))\n",
    "data['Year sin'] = np.sin(timestamp_s * (2 * np.pi / year))\n",
    "data['Year cos'] = np.cos(timestamp_s * (2 * np.pi / year))"
   ]
  },
  {
   "cell_type": "code",
   "execution_count": 15,
   "metadata": {},
   "outputs": [],
   "source": [
    "# Split temp data\n",
    "split_values = data['TMP'].str.split(',', expand=True)\n",
    "num_columns = len(split_values.columns)\n",
    "split_values.columns = [\"Temp\",\"Quality\"]\n",
    "data = pd.concat([data, split_values], axis=1)"
   ]
  },
  {
   "cell_type": "code",
   "execution_count": 16,
   "metadata": {},
   "outputs": [],
   "source": [
    "# Process and clean temp data\n",
    "data['Temp'] = data['Temp'].astype(int)\n",
    "data['Temp'] = data['Temp'] / 10\n",
    "data = data[~data['Quality'].isin(['9'])]"
   ]
  },
  {
   "cell_type": "code",
   "execution_count": 17,
   "metadata": {},
   "outputs": [],
   "source": [
    "# Remove unnecessary collumns\n",
    "data.drop([\"Direction\",\"Speed\",\"Direction_Quality\",\"Type\",\"Speed_Quality\",\"REPORT_TYPE\",\"WND\",\"TMP\",\"Quality\"],axis=1,inplace=True)"
   ]
  },
  {
   "cell_type": "code",
   "execution_count": 18,
   "metadata": {},
   "outputs": [],
   "source": [
    "# Split data into training, validation, and testing\n",
    "column_indices = {name: i for i, name in enumerate(data.columns)}\n",
    "\n",
    "n = len(data)\n",
    "train_data = data[0:int(n*0.7)]\n",
    "val_data = data[int(n*0.7):int(n*0.9)]\n",
    "test_data = data[int(n*0.9):]\n",
    "\n",
    "num_features = data.shape[1]"
   ]
  },
  {
   "cell_type": "code",
   "execution_count": 19,
   "metadata": {},
   "outputs": [],
   "source": [
    "# Normalize data\n",
    "train_mean = train_data.mean()\n",
    "train_std = train_data.std()\n",
    "\n",
    "train_data = (train_data - train_mean) / train_std\n",
    "val_data = (val_data - train_mean) / train_std\n",
    "test_data = (test_data - train_mean) / train_std"
   ]
  },
  {
   "cell_type": "code",
   "execution_count": 20,
   "metadata": {},
   "outputs": [],
   "source": [
    "data.to_csv(\"cleanData.csv\",index=False)"
   ]
  }
 ],
 "metadata": {
  "kernelspec": {
   "display_name": "Python 3",
   "language": "python",
   "name": "python3"
  },
  "language_info": {
   "codemirror_mode": {
    "name": "ipython",
    "version": 3
   },
   "file_extension": ".py",
   "mimetype": "text/x-python",
   "name": "python",
   "nbconvert_exporter": "python",
   "pygments_lexer": "ipython3",
   "version": "3.11.2"
  }
 },
 "nbformat": 4,
 "nbformat_minor": 2
}

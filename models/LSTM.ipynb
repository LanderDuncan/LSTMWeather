{
 "cells": [
  {
   "cell_type": "code",
   "execution_count": 2,
   "metadata": {},
   "outputs": [
    {
     "name": "stdout",
     "output_type": "stream",
     "text": [
      "        STATION                 DATE  SOURCE REPORT_TYPE CALL_SIGN  \\\n",
      "0   72495723213  2000-01-01T00:53:00       4       FM-15     KSTS    \n",
      "1   72495723213  2000-01-01T01:53:00       4       FM-15     KSTS    \n",
      "2   72495723213  2000-01-01T02:53:00       4       FM-15     KSTS    \n",
      "3   72495723213  2000-01-01T03:53:00       4       FM-15     KSTS    \n",
      "4   72495723213  2000-01-01T04:08:00       4       FM-16     KSTS    \n",
      "..          ...                  ...     ...         ...       ...   \n",
      "68  72495723213  2000-01-02T19:53:00       4       FM-15     KSTS    \n",
      "69  72495723213  2000-01-02T20:53:00       4       FM-15     KSTS    \n",
      "70  72495723213  2000-01-02T21:53:00       4       FM-15     KSTS    \n",
      "71  72495723213  2000-01-02T22:53:00       4       FM-15     KSTS    \n",
      "72  72495723213  2000-01-02T23:53:00       4       FM-15     KSTS    \n",
      "\n",
      "   QUALITY_CONTROL          CIG               DATE.1      DEW  \\\n",
      "0             V020  22000,1,9,N  2000-01-01T00:53:00  +0070,1   \n",
      "1             V020  22000,1,9,N  2000-01-01T01:53:00  +0060,1   \n",
      "2             V020  22000,1,9,N  2000-01-01T02:53:00  +0060,1   \n",
      "3             V020  22000,1,9,N  2000-01-01T03:53:00  +0030,1   \n",
      "4             V020  00390,1,9,N  2000-01-01T04:08:00  +0050,1   \n",
      "..             ...          ...                  ...      ...   \n",
      "68            V020  22000,1,9,N  2000-01-02T19:53:00  +0030,1   \n",
      "69            V020  22000,1,9,N  2000-01-02T20:53:00  +0030,1   \n",
      "70            V020  01200,1,9,N  2000-01-02T21:53:00  +0030,1   \n",
      "71            V020  01350,1,9,N  2000-01-02T22:53:00  +0040,1   \n",
      "72            V020  01170,1,9,N  2000-01-02T23:53:00  +0040,1   \n",
      "\n",
      "   QUALITY_CONTROL.1 REPORT_TYPE.1      SLP      TMP           VIS  \\\n",
      "0               V020         FM-15  10148,1  +0090,1  012874,1,N,1   \n",
      "1               V020         FM-15  10149,1  +0070,1  016093,1,N,1   \n",
      "2               V020         FM-15  10156,1  +0060,1  012874,1,N,1   \n",
      "3               V020         FM-15  10162,1  +0040,1  008046,1,N,1   \n",
      "4               V020         FM-16  99999,9  +0060,1  008046,1,N,1   \n",
      "..               ...           ...      ...      ...           ...   \n",
      "68              V020         FM-15  10273,1  +0110,1  016093,1,N,1   \n",
      "69              V020         FM-15  10268,1  +0120,1  016093,1,N,1   \n",
      "70              V020         FM-15  10264,1  +0110,1  016093,1,N,1   \n",
      "71              V020         FM-15  10262,1  +0120,1  016093,1,N,1   \n",
      "72              V020         FM-15  10268,1  +0110,1  016093,1,N,1   \n",
      "\n",
      "               WND  \n",
      "0   280,1,N,0021,1  \n",
      "1   130,1,N,0036,1  \n",
      "2   999,9,C,0000,1  \n",
      "3   010,1,N,0026,1  \n",
      "4   040,1,N,0031,1  \n",
      "..             ...  \n",
      "68  330,1,N,0051,1  \n",
      "69  320,1,N,0062,1  \n",
      "70  300,1,N,0051,1  \n",
      "71  320,1,N,0036,1  \n",
      "72  340,1,N,0036,1  \n",
      "\n",
      "[73 rows x 15 columns]\n"
     ]
    }
   ],
   "source": [
    "import pandas as pd\n",
    "link = \"https://www.ncei.noaa.gov/access/services/data/v1?dataset=global-hourly&stations=72495723213&dataTypes=DATE,REPORT_TYPE,QUALITY_CONTROL,WND,CIG,VIS,TMP,DEW,SLP&startDate=2000-01-01&endDate=\"\n",
    "endDate = \"2000-01-02\"\n",
    "link += endDate\n",
    "data = pd.read_csv(link)\n",
    "print(data)"
   ]
  }
 ],
 "metadata": {
  "kernelspec": {
   "display_name": "Python 3",
   "language": "python",
   "name": "python3"
  },
  "language_info": {
   "codemirror_mode": {
    "name": "ipython",
    "version": 3
   },
   "file_extension": ".py",
   "mimetype": "text/x-python",
   "name": "python",
   "nbconvert_exporter": "python",
   "pygments_lexer": "ipython3",
   "version": "3.11.2"
  }
 },
 "nbformat": 4,
 "nbformat_minor": 2
}

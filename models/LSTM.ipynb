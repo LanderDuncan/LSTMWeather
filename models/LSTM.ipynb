{
 "cells": [
  {
   "cell_type": "code",
   "execution_count": 58,
   "metadata": {},
   "outputs": [],
   "source": [
    "import pandas as pd"
   ]
  },
  {
   "cell_type": "code",
   "execution_count": 59,
   "metadata": {},
   "outputs": [
    {
     "name": "stderr",
     "output_type": "stream",
     "text": [
      "C:\\Users\\Lande\\AppData\\Local\\Temp\\ipykernel_94948\\1697654871.py:6: DtypeWarning: Columns (2) have mixed types. Specify dtype option on import or set low_memory=False.\n",
      "  data = pd.read_csv(link)\n"
     ]
    }
   ],
   "source": [
    "# Import CSV to Pandas\n",
    "# link = \"https://www.ncei.noaa.gov/access/services/data/v1?dataset=global-hourly&stations=72495723213&dataTypes=DATE,REPORT_TYPE,WND&startDate=2000-01-01&endDate=\"\n",
    "# endDate = \"2000-01-02\"\n",
    "# link += endDate\n",
    "link =\"./global-hourly-2023-12-29T11-33-21.csv\"\n",
    "data = pd.read_csv(link)"
   ]
  },
  {
   "cell_type": "code",
   "execution_count": 60,
   "metadata": {},
   "outputs": [],
   "source": [
    "# Remove SOD and SOM reports \n",
    "data = data[~data['REPORT_TYPE'].isin(['SOD  ','SOM  '])]"
   ]
  },
  {
   "cell_type": "code",
   "execution_count": 61,
   "metadata": {},
   "outputs": [],
   "source": [
    "# Split the wind data into seperate collumns\n",
    "split_values = data['WND'].str.split(',', expand=True)\n",
    "num_columns = len(split_values.columns)\n",
    "split_values.columns = [\"Direction\",\"Direction_Quality\",\"Type\",\"Speed\",\"Speed_Quality\"]\n",
    "data = pd.concat([data, split_values], axis=1)"
   ]
  },
  {
   "cell_type": "code",
   "execution_count": 62,
   "metadata": {},
   "outputs": [],
   "source": [
    "# Drop redundant collumns\n",
    "data.drop([\"STATION\", \"SOURCE\",\"SOURCE\",\"CALL_SIGN\",\"QUALITY_CONTROL\",\"DATE.1\",\"REPORT_TYPE.1\",\"REPORT_TYPE\",\"WND\"],axis=1,inplace=True)"
   ]
  },
  {
   "cell_type": "code",
   "execution_count": 63,
   "metadata": {},
   "outputs": [
    {
     "name": "stdout",
     "output_type": "stream",
     "text": [
      "DATE                         object\n",
      "Direction                     int32\n",
      "Direction_Quality    string[python]\n",
      "Type                 string[python]\n",
      "Speed                         int32\n",
      "Speed_Quality        string[python]\n",
      "dtype: object\n"
     ]
    }
   ],
   "source": [
    "# Convert Speed and Direction collumns to ints\n",
    "data['Direction'] = data['Direction'].astype(int)\n",
    "data['Speed'] = data['Speed'].astype(int)\n",
    "data['Direction_Quality'] = data['Speed'].astype('string')\n",
    "data['Speed_Quality'] = data['Speed'].astype('string')\n",
    "data['Type'] = data['Speed'].astype('string')\n",
    "print(data.dtypes)"
   ]
  },
  {
   "cell_type": "code",
   "execution_count": 64,
   "metadata": {},
   "outputs": [],
   "source": [
    "data.to_csv(\"output.csv\",index=False)"
   ]
  },
  {
   "cell_type": "code",
   "execution_count": 65,
   "metadata": {},
   "outputs": [],
   "source": [
    "# Standardize calm and variable wind\n",
    "data.loc[data['Type'] == 'C', 'Speed'] = 0\n",
    "data.loc[data['Type'] == 'C', 'Direction'] = 0\n",
    "data.loc[data['Type'] == 'V', 'Direction'] = 999"
   ]
  },
  {
   "cell_type": "code",
   "execution_count": 66,
   "metadata": {},
   "outputs": [],
   "source": [
    "# Remove data flagged as erroneous\n",
    "# data = data[data['Type'].isin(['N','C','V'])]\n",
    "# data = data[data['Direction_Quality'].isin(['0', '1', '4', '5', '9'])]# Direction quality\n",
    "# data = data[data['Speed_Quality'].isin(['0', '1', '4', '5', '9'])]# Speed quality"
   ]
  },
  {
   "cell_type": "code",
   "execution_count": 67,
   "metadata": {},
   "outputs": [],
   "source": [
    "# Remove impossibile measurements\n",
    "data = data[(data['Direction'] == 999) | (data['Direction'].between(0, 360))]"
   ]
  },
  {
   "cell_type": "code",
   "execution_count": 68,
   "metadata": {},
   "outputs": [],
   "source": [
    "# Remove validation collumns\n",
    "# data.drop([\"Direction_Quality\",\"Type\",\"Speed_Quality\"],axis=1,inplace=True)"
   ]
  },
  {
   "cell_type": "code",
   "execution_count": 69,
   "metadata": {},
   "outputs": [],
   "source": [
    "data.to_csv(\"output2.csv\",index=False)"
   ]
  },
  {
   "cell_type": "code",
   "execution_count": 70,
   "metadata": {},
   "outputs": [
    {
     "name": "stdout",
     "output_type": "stream",
     "text": [
      "Direction Counts:\n",
      "Direction\n",
      "999    123243\n",
      "150     14367\n",
      "160     13812\n",
      "170     12807\n",
      "180     11852\n",
      "140     10404\n",
      "190      9086\n",
      "130      6165\n",
      "330      5815\n",
      "320      5585\n",
      "340      5314\n",
      "200      5226\n",
      "310      4734\n",
      "220      4207\n",
      "350      4162\n",
      "210      4077\n",
      "300      3872\n",
      "250      3587\n",
      "230      3535\n",
      "240      3516\n",
      "120      3444\n",
      "260      3341\n",
      "360      3259\n",
      "290      3237\n",
      "270      3142\n",
      "280      2934\n",
      "10       2373\n",
      "110      1811\n",
      "20       1763\n",
      "30       1145\n",
      "100      1105\n",
      "40        787\n",
      "90        721\n",
      "50        599\n",
      "80        549\n",
      "70        493\n",
      "60        477\n",
      "Name: count, dtype: int64\n"
     ]
    }
   ],
   "source": [
    "direction_counts = data['Direction'].value_counts()\n",
    "\n",
    "print(\"Direction Counts:\")\n",
    "print(direction_counts)"
   ]
  },
  {
   "cell_type": "code",
   "execution_count": 71,
   "metadata": {},
   "outputs": [
    {
     "name": "stdout",
     "output_type": "stream",
     "text": [
      "Direction_Quality Counts:\n",
      "Direction_Quality\n",
      "0       110262\n",
      "15       45371\n",
      "21       31262\n",
      "26       22215\n",
      "31       16100\n",
      "36       12997\n",
      "41       11515\n",
      "46       10005\n",
      "51        6766\n",
      "57        5537\n",
      "62        3515\n",
      "67        2198\n",
      "9999      1612\n",
      "72        1451\n",
      "52        1326\n",
      "77         996\n",
      "20         801\n",
      "82         697\n",
      "88         404\n",
      "93         282\n",
      "98         205\n",
      "56         185\n",
      "103        134\n",
      "61         105\n",
      "108         92\n",
      "113         66\n",
      "13          61\n",
      "22          54\n",
      "66          52\n",
      "118         45\n",
      "71          38\n",
      "87          34\n",
      "40          32\n",
      "35          27\n",
      "124         22\n",
      "134         18\n",
      "129         18\n",
      "30           6\n",
      "139          4\n",
      "149          4\n",
      "50           4\n",
      "80           4\n",
      "92           4\n",
      "100          3\n",
      "70           3\n",
      "123          3\n",
      "117          2\n",
      "10           2\n",
      "60           2\n",
      "144          2\n",
      "112          1\n",
      "160          1\n",
      "110          1\n",
      "Name: count, dtype: Int64\n"
     ]
    }
   ],
   "source": [
    "direction_counts = data['Direction_Quality'].value_counts()\n",
    "\n",
    "print(\"Direction_Quality Counts:\")\n",
    "print(direction_counts)"
   ]
  },
  {
   "cell_type": "code",
   "execution_count": 72,
   "metadata": {},
   "outputs": [
    {
     "name": "stdout",
     "output_type": "stream",
     "text": [
      "Type counts:\n",
      "Type\n",
      "0       110262\n",
      "15       45371\n",
      "21       31262\n",
      "26       22215\n",
      "31       16100\n",
      "36       12997\n",
      "41       11515\n",
      "46       10005\n",
      "51        6766\n",
      "57        5537\n",
      "62        3515\n",
      "67        2198\n",
      "9999      1612\n",
      "72        1451\n",
      "52        1326\n",
      "77         996\n",
      "20         801\n",
      "82         697\n",
      "88         404\n",
      "93         282\n",
      "98         205\n",
      "56         185\n",
      "103        134\n",
      "61         105\n",
      "108         92\n",
      "113         66\n",
      "13          61\n",
      "22          54\n",
      "66          52\n",
      "118         45\n",
      "71          38\n",
      "87          34\n",
      "40          32\n",
      "35          27\n",
      "124         22\n",
      "134         18\n",
      "129         18\n",
      "30           6\n",
      "139          4\n",
      "149          4\n",
      "50           4\n",
      "80           4\n",
      "92           4\n",
      "100          3\n",
      "70           3\n",
      "123          3\n",
      "117          2\n",
      "10           2\n",
      "60           2\n",
      "144          2\n",
      "112          1\n",
      "160          1\n",
      "110          1\n",
      "Name: count, dtype: Int64\n"
     ]
    }
   ],
   "source": [
    "direction_counts = data['Type'].value_counts()\n",
    "\n",
    "print(\"Type counts:\")\n",
    "print(direction_counts)"
   ]
  },
  {
   "cell_type": "code",
   "execution_count": 73,
   "metadata": {},
   "outputs": [
    {
     "name": "stdout",
     "output_type": "stream",
     "text": [
      "Speed counts:\n",
      "Speed\n",
      "0       110262\n",
      "15       45371\n",
      "21       31262\n",
      "26       22215\n",
      "31       16100\n",
      "36       12997\n",
      "41       11515\n",
      "46       10005\n",
      "51        6766\n",
      "57        5537\n",
      "62        3515\n",
      "67        2198\n",
      "9999      1612\n",
      "72        1451\n",
      "52        1326\n",
      "77         996\n",
      "20         801\n",
      "82         697\n",
      "88         404\n",
      "93         282\n",
      "98         205\n",
      "56         185\n",
      "103        134\n",
      "61         105\n",
      "108         92\n",
      "113         66\n",
      "13          61\n",
      "22          54\n",
      "66          52\n",
      "118         45\n",
      "71          38\n",
      "87          34\n",
      "40          32\n",
      "35          27\n",
      "124         22\n",
      "134         18\n",
      "129         18\n",
      "30           6\n",
      "92           4\n",
      "80           4\n",
      "50           4\n",
      "149          4\n",
      "139          4\n",
      "100          3\n",
      "70           3\n",
      "123          3\n",
      "117          2\n",
      "10           2\n",
      "60           2\n",
      "144          2\n",
      "112          1\n",
      "160          1\n",
      "110          1\n",
      "Name: count, dtype: int64\n"
     ]
    }
   ],
   "source": [
    "direction_counts = data['Speed'].value_counts()\n",
    "\n",
    "print(\"Speed counts:\")\n",
    "print(direction_counts)"
   ]
  },
  {
   "cell_type": "code",
   "execution_count": 74,
   "metadata": {},
   "outputs": [
    {
     "name": "stdout",
     "output_type": "stream",
     "text": [
      "Speed_Quality counts:\n",
      "Speed_Quality\n",
      "0       110262\n",
      "15       45371\n",
      "21       31262\n",
      "26       22215\n",
      "31       16100\n",
      "36       12997\n",
      "41       11515\n",
      "46       10005\n",
      "51        6766\n",
      "57        5537\n",
      "62        3515\n",
      "67        2198\n",
      "9999      1612\n",
      "72        1451\n",
      "52        1326\n",
      "77         996\n",
      "20         801\n",
      "82         697\n",
      "88         404\n",
      "93         282\n",
      "98         205\n",
      "56         185\n",
      "103        134\n",
      "61         105\n",
      "108         92\n",
      "113         66\n",
      "13          61\n",
      "22          54\n",
      "66          52\n",
      "118         45\n",
      "71          38\n",
      "87          34\n",
      "40          32\n",
      "35          27\n",
      "124         22\n",
      "134         18\n",
      "129         18\n",
      "30           6\n",
      "139          4\n",
      "149          4\n",
      "50           4\n",
      "80           4\n",
      "92           4\n",
      "100          3\n",
      "70           3\n",
      "123          3\n",
      "117          2\n",
      "10           2\n",
      "60           2\n",
      "144          2\n",
      "112          1\n",
      "160          1\n",
      "110          1\n",
      "Name: count, dtype: Int64\n"
     ]
    }
   ],
   "source": [
    "direction_counts = data['Speed_Quality'].value_counts()\n",
    "\n",
    "print(\"Speed_Quality counts:\")\n",
    "print(direction_counts)"
   ]
  }
 ],
 "metadata": {
  "kernelspec": {
   "display_name": "Python 3",
   "language": "python",
   "name": "python3"
  },
  "language_info": {
   "codemirror_mode": {
    "name": "ipython",
    "version": 3
   },
   "file_extension": ".py",
   "mimetype": "text/x-python",
   "name": "python",
   "nbconvert_exporter": "python",
   "pygments_lexer": "ipython3",
   "version": "3.11.2"
  }
 },
 "nbformat": 4,
 "nbformat_minor": 2
}

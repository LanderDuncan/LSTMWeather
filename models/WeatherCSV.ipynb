{
 "cells": [
  {
   "cell_type": "code",
   "execution_count": 12,
   "metadata": {},
   "outputs": [],
   "source": [
    "import pandas as pd"
   ]
  },
  {
   "cell_type": "code",
   "execution_count": 13,
   "metadata": {},
   "outputs": [],
   "source": [
    "# Import CSV to Pandas\n",
    "# link = \"https://www.ncei.noaa.gov/access/services/data/v1?dataset=global-hourly&stations=72495723213&dataTypes=DATE,REPORT_TYPE,WND&startDate=2000-01-01&endDate=\"\n",
    "# endDate = \"2023-12-12\"\n",
    "# link += endDate\n",
    "link =\"./global-hourly-2023-12-29T11-33-21.csv\"\n",
    "data = pd.read_csv(link,usecols=[\"WND\",\"REPORT_TYPE\",\"DATE\"],dtype={\"WND\": str, \"REPORT_TYPE\": str, \"DATE\": str})"
   ]
  },
  {
   "cell_type": "code",
   "execution_count": 14,
   "metadata": {},
   "outputs": [],
   "source": [
    "# Remove SOD and SOM reports \n",
    "data = data[~data['REPORT_TYPE'].isin(['SOD  ','SOM  '])]"
   ]
  },
  {
   "cell_type": "code",
   "execution_count": 15,
   "metadata": {},
   "outputs": [],
   "source": [
    "# Split the wind data into seperate collumns\n",
    "split_values = data['WND'].str.split(',', expand=True)\n",
    "num_columns = len(split_values.columns)\n",
    "split_values.columns = [\"Direction\",\"Direction_Quality\",\"Type\",\"Speed\",\"Speed_Quality\"]\n",
    "data = pd.concat([data, split_values], axis=1)"
   ]
  },
  {
   "cell_type": "code",
   "execution_count": 16,
   "metadata": {},
   "outputs": [],
   "source": [
    "# Drop redundant collumns\n",
    "data.drop([\"REPORT_TYPE\",\"WND\"],axis=1,inplace=True)"
   ]
  },
  {
   "cell_type": "code",
   "execution_count": 17,
   "metadata": {},
   "outputs": [],
   "source": [
    "# Convert Speed and Direction collumns to ints\n",
    "data['Direction'] = data['Direction'].astype(int)\n",
    "data['Speed'] = data['Speed'].astype(int)"
   ]
  },
  {
   "cell_type": "code",
   "execution_count": 18,
   "metadata": {},
   "outputs": [],
   "source": [
    "# Standardize calm and variable wind\n",
    "data.loc[data['Type'] == 'C', 'Speed'] = 0\n",
    "data.loc[data['Type'] == 'C', 'Direction'] = 0\n",
    "data.loc[data['Type'] == 'V', 'Direction'] = 999"
   ]
  },
  {
   "cell_type": "code",
   "execution_count": 19,
   "metadata": {},
   "outputs": [],
   "source": [
    "# Remove data flagged as erroneous\n",
    "data = data[data['Type'].isin([\"N\",\"C\",\"V\"])]\n",
    "data = data[data['Direction_Quality'].isin(['0', '1', '4', '5', '9'])]# Direction quality\n",
    "data = data[data['Speed_Quality'].isin(['0', '1', '4', '5', '9'])]# Speed quality"
   ]
  },
  {
   "cell_type": "code",
   "execution_count": 20,
   "metadata": {},
   "outputs": [],
   "source": [
    "# Remove impossibile measurements\n",
    "data = data[(data['Direction'] == 999) | (data['Direction'].between(0, 360))]"
   ]
  },
  {
   "cell_type": "code",
   "execution_count": 21,
   "metadata": {},
   "outputs": [],
   "source": [
    "# Remove validation collumns\n",
    "data.drop([\"Direction_Quality\",\"Type\",\"Speed_Quality\"],axis=1,inplace=True)"
   ]
  },
  {
   "cell_type": "code",
   "execution_count": 22,
   "metadata": {},
   "outputs": [],
   "source": [
    "data.to_csv(\"output.csv\",index=False)"
   ]
  }
 ],
 "metadata": {
  "kernelspec": {
   "display_name": "Python 3",
   "language": "python",
   "name": "python3"
  },
  "language_info": {
   "codemirror_mode": {
    "name": "ipython",
    "version": 3
   },
   "file_extension": ".py",
   "mimetype": "text/x-python",
   "name": "python",
   "nbconvert_exporter": "python",
   "pygments_lexer": "ipython3",
   "version": "3.11.2"
  }
 },
 "nbformat": 4,
 "nbformat_minor": 2
}
